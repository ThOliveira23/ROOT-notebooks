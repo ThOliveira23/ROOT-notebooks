{
 "cells": [
  {
   "cell_type": "markdown",
   "metadata": {},
   "source": [
    "# 10 Concluding Remarks\n",
    "This is the end of our guided tour for beginners through ROOT. There is still a lot to be said, though by now you are experienced enough to use the ROOT documentation, most importantly the [ROOT home page](https://root.cern.ch) and the [ROOT reference guide](https://root.cern.ch/guides/reference-guide) with the documentation of all ROOT classes, or the [ROOT users guide](https://root.cern.ch/guides/users-guide).\n",
    "\n",
    "A very useful way for you to continue exploring ROOT is to study the examples in the sub-directory ```tutorials/``` of any ROOT installation.\n",
    "\n",
    "There are some powerful features of ROOT which were not treated in this document, e.g. packages named RooFit and RooStats providing an advanced framework for model building, fitting and statistical analysis. The ROOT namespace ```TMVA``` offers multi-variate analysis tools including an artificial neural network and many other advanced tools for classification problems. The remarkable ability of ROOT to handle large data volumes was already mentioned in this guide, implemented through the class ```TTree```. But there is still much more for you to explore!\n",
    "\n",
    "**End of this guide … but hopefully not of your interaction with ROOT !**\n",
    "\n",
    "## 10.1 References\n",
    "\n",
    "Matsumoto, Makoto. 1997. “Mersenne Twister Home Page.” http://www.math.sci.hiroshima-u.ac.jp/~m-mat/MT/emt.html.\n",
    "\n",
    "Silin, I.N. 1983. “FUMILI.” CERN Program Library d510.\n",
    "\n",
    "The ROOT Reference Guide. 2013. http://root.cern.ch/drupal/content/reference-guide.\n",
    "\n",
    "The ROOT Users Guide. 2015. http://root.cern.ch/drupal/content/users-guide.\n",
    "\n",
    "“What Is Cling.” 2015. https://root.cern.ch/drupal/content/cling."
   ]
  },
  {
   "cell_type": "markdown",
   "metadata": {},
   "source": [
    "# 11 Exercises\n",
    "\n",
    "1. Create a function with parameters, ```p0 * sin (p1 * x) / x```, and also draw it for different parameter values. Set the colour of the parametric function to blue. After having drawn the function, compute for the parameter values ```(p0 = 1, p1 = 2)```:\n",
    "    1. Function value for x=1\n",
    "    2. Function derivative for x=1\n",
    "    3. Integral of the function between 0 and 3\n",
    "\n",
    "2. Suppose you have this set of points defined in the attached file [graphdata.txt](../data/graphdata.txt). Plot these points using the [TGraph](https://root.cern.ch/doc/master/classTGraph.html) class. Use as marker point a black box. Looking at the possible options for drawing the TGraph in [TGraphPainter](https://root.cern.ch/doc/master/classTGraphPainter.html), plot a line connecting the points. Make a [TGraphError](https://root.cern.ch/doc/master/classTGraphErrors.html) and display it by using the attached data set, [graphdata_error.txt](../data/graphdata_error.txt), containing error in x and y.\n",
    "\n",
    "3. Create a one-dimensional histogram with 50 bins between 0 to 10, and fill it with 10000 gaussian distributed random numbers with mean 5 and sigma 2. Plot the histogram and, looking at the documentation in the [THistPainter](https://root.cern.ch/doc/master/classTHistPainter.html), show in the statistic box the number of entries, the mean, the RMS, the integral of the histogram, the number of underflows, the number of overflows, the skewness and the kurtosis.\n",
    "\n",
    "4. Using the tree contained in [tree.root](../data/tree.root) make a distribution of the total momentum of each whose beam energy was outside of the mean by more than 0.2. Use TCut objects to make your events selections. Project this distribution into a histogram, draw it and save it to a file.\n"
   ]
  },
  {
   "cell_type": "markdown",
   "metadata": {
    "remove": true,
    "truseted": true
   },
   "source": [
    "<p id=\"nav-felt\" style=\"possition:relative; width:50%; float:left;\"><a href=\"5-ROOT-python.ipynb\">&lt;&lt; Previous - Chapter 5: ROOT in Python </a></p>"
   ]
  }
 ],
 "metadata": {
  "kernelspec": {
   "display_name": "Python 3",
   "language": "python",
   "name": "python3"
  },
  "language_info": {
   "codemirror_mode": {
    "name": "ipython",
    "version": 3
   },
   "file_extension": ".py",
   "mimetype": "text/x-python",
   "name": "python",
   "nbconvert_exporter": "python",
   "pygments_lexer": "ipython3",
   "version": "3.7.6"
  }
 },
 "nbformat": 4,
 "nbformat_minor": 1
}
